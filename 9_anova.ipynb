{
 "cells": [
  {
   "cell_type": "markdown",
   "metadata": {},
   "source": [
    "+ Name: Vanshita\n",
    "+ Roll Number: 202110102"
   ]
  },
  {
   "cell_type": "code",
   "execution_count": 54,
   "metadata": {},
   "outputs": [],
   "source": [
    "import pandas as pd\n",
    "import numpy as np\n",
    "from scipy.stats import shapiro, levene\n",
    "from scipy import stats\n",
    "from statsmodels.stats.multicomp import pairwise_tukeyhsd\n",
    "import pingouin as pg\n",
    "from scipy.stats import f_oneway\n",
    "import seaborn as sns\n",
    "import matplotlib.pyplot as plt\n",
    "from scipy import stats\n",
    "from scipy.stats import kruskal\n",
    "# from scikit_posthocs import posthoc_dunn"
   ]
  },
  {
   "cell_type": "markdown",
   "metadata": {},
   "source": [
    "## Memory Scores"
   ]
  },
  {
   "cell_type": "code",
   "execution_count": 3,
   "metadata": {},
   "outputs": [
    {
     "data": {
      "text/html": [
       "<div>\n",
       "<style scoped>\n",
       "    .dataframe tbody tr th:only-of-type {\n",
       "        vertical-align: middle;\n",
       "    }\n",
       "\n",
       "    .dataframe tbody tr th {\n",
       "        vertical-align: top;\n",
       "    }\n",
       "\n",
       "    .dataframe thead th {\n",
       "        text-align: right;\n",
       "    }\n",
       "</style>\n",
       "<table border=\"1\" class=\"dataframe\">\n",
       "  <thead>\n",
       "    <tr style=\"text-align: right;\">\n",
       "      <th></th>\n",
       "      <th>Normal children</th>\n",
       "      <th>Autistic children</th>\n",
       "      <th>Children with epilepsy</th>\n",
       "    </tr>\n",
       "  </thead>\n",
       "  <tbody>\n",
       "    <tr>\n",
       "      <th>0</th>\n",
       "      <td>24</td>\n",
       "      <td>15.0</td>\n",
       "      <td>30.0</td>\n",
       "    </tr>\n",
       "    <tr>\n",
       "      <th>1</th>\n",
       "      <td>22</td>\n",
       "      <td>2.0</td>\n",
       "      <td>15.0</td>\n",
       "    </tr>\n",
       "    <tr>\n",
       "      <th>2</th>\n",
       "      <td>19</td>\n",
       "      <td>1.0</td>\n",
       "      <td>34.0</td>\n",
       "    </tr>\n",
       "    <tr>\n",
       "      <th>3</th>\n",
       "      <td>22</td>\n",
       "      <td>21.0</td>\n",
       "      <td>26.0</td>\n",
       "    </tr>\n",
       "    <tr>\n",
       "      <th>4</th>\n",
       "      <td>28</td>\n",
       "      <td>3.0</td>\n",
       "      <td>14.0</td>\n",
       "    </tr>\n",
       "    <tr>\n",
       "      <th>5</th>\n",
       "      <td>26</td>\n",
       "      <td>10.0</td>\n",
       "      <td>28.0</td>\n",
       "    </tr>\n",
       "    <tr>\n",
       "      <th>6</th>\n",
       "      <td>28</td>\n",
       "      <td>9.0</td>\n",
       "      <td>17.0</td>\n",
       "    </tr>\n",
       "    <tr>\n",
       "      <th>7</th>\n",
       "      <td>24</td>\n",
       "      <td>8.0</td>\n",
       "      <td>29.0</td>\n",
       "    </tr>\n",
       "    <tr>\n",
       "      <th>8</th>\n",
       "      <td>30</td>\n",
       "      <td>3.0</td>\n",
       "      <td>25.0</td>\n",
       "    </tr>\n",
       "    <tr>\n",
       "      <th>9</th>\n",
       "      <td>29</td>\n",
       "      <td>7.0</td>\n",
       "      <td>11.0</td>\n",
       "    </tr>\n",
       "    <tr>\n",
       "      <th>10</th>\n",
       "      <td>25</td>\n",
       "      <td>6.0</td>\n",
       "      <td>37.0</td>\n",
       "    </tr>\n",
       "    <tr>\n",
       "      <th>11</th>\n",
       "      <td>20</td>\n",
       "      <td>18.0</td>\n",
       "      <td>36.0</td>\n",
       "    </tr>\n",
       "    <tr>\n",
       "      <th>12</th>\n",
       "      <td>17</td>\n",
       "      <td>2.0</td>\n",
       "      <td>34.0</td>\n",
       "    </tr>\n",
       "    <tr>\n",
       "      <th>13</th>\n",
       "      <td>19</td>\n",
       "      <td>5.0</td>\n",
       "      <td>22.0</td>\n",
       "    </tr>\n",
       "    <tr>\n",
       "      <th>14</th>\n",
       "      <td>18</td>\n",
       "      <td>2.0</td>\n",
       "      <td>18.0</td>\n",
       "    </tr>\n",
       "    <tr>\n",
       "      <th>15</th>\n",
       "      <td>26</td>\n",
       "      <td>5.0</td>\n",
       "      <td>5.0</td>\n",
       "    </tr>\n",
       "    <tr>\n",
       "      <th>16</th>\n",
       "      <td>27</td>\n",
       "      <td>0.0</td>\n",
       "      <td>12.0</td>\n",
       "    </tr>\n",
       "    <tr>\n",
       "      <th>17</th>\n",
       "      <td>24</td>\n",
       "      <td>27.0</td>\n",
       "      <td>10.0</td>\n",
       "    </tr>\n",
       "    <tr>\n",
       "      <th>18</th>\n",
       "      <td>27</td>\n",
       "      <td>NaN</td>\n",
       "      <td>15.0</td>\n",
       "    </tr>\n",
       "    <tr>\n",
       "      <th>19</th>\n",
       "      <td>27</td>\n",
       "      <td>NaN</td>\n",
       "      <td>NaN</td>\n",
       "    </tr>\n",
       "  </tbody>\n",
       "</table>\n",
       "</div>"
      ],
      "text/plain": [
       "    Normal children  Autistic children  Children with epilepsy\n",
       "0                24               15.0                    30.0\n",
       "1                22                2.0                    15.0\n",
       "2                19                1.0                    34.0\n",
       "3                22               21.0                    26.0\n",
       "4                28                3.0                    14.0\n",
       "5                26               10.0                    28.0\n",
       "6                28                9.0                    17.0\n",
       "7                24                8.0                    29.0\n",
       "8                30                3.0                    25.0\n",
       "9                29                7.0                    11.0\n",
       "10               25                6.0                    37.0\n",
       "11               20               18.0                    36.0\n",
       "12               17                2.0                    34.0\n",
       "13               19                5.0                    22.0\n",
       "14               18                2.0                    18.0\n",
       "15               26                5.0                     5.0\n",
       "16               27                0.0                    12.0\n",
       "17               24               27.0                    10.0\n",
       "18               27                NaN                    15.0\n",
       "19               27                NaN                     NaN"
      ]
     },
     "execution_count": 3,
     "metadata": {},
     "output_type": "execute_result"
    }
   ],
   "source": [
    "data1 = {\n",
    "    'Normal children': [24, 22, 19, 22, 28, 26, 28, 24, 30, 29, 25, 20, 17, 19, 18, 26, 27, 24, 27, 27],\n",
    "    'Autistic children': [15, 2, 1, 21, 3, 10, 9, 8, 3, 7, 6, 18, 2, 5, 2, 5, 0, 27, None, None],\n",
    "    'Children with epilepsy': [30, 15, 34, 26, 14, 28, 17, 29, 25, 11, 37, 36, 34, 22, 18, 5, 12, 10, 15, None]\n",
    "}\n",
    "\n",
    "df1 = pd.DataFrame(data1)\n",
    "df1"
   ]
  },
  {
   "cell_type": "code",
   "execution_count": 4,
   "metadata": {},
   "outputs": [],
   "source": [
    "data = {\n",
    "    'Normal children': [24, 22, 19, 22, 28, 26, 28, 24, 30, 29, 25, 20, 17, 19, 18, 26, 27, 24, 27, 27],\n",
    "    'Autistic children': [15, 2, 1, 21, 3, 10, 9, 8, 3, 7, 6, 18, 2, 5, 2, 5, 0, 27],\n",
    "    'Children with epilepsy': [30, 15, 34, 26, 14, 28, 17, 29, 25, 11, 37, 36, 34, 22, 18, 5, 12, 10, 15]\n",
    "}"
   ]
  },
  {
   "cell_type": "code",
   "execution_count": 5,
   "metadata": {},
   "outputs": [],
   "source": [
    "normal_scores = data['Normal children']\n",
    "autistic_scores = data['Autistic children']\n",
    "epilepsy_scores = data['Children with epilepsy']\n",
    "\n",
    "cols = [normal_scores, autistic_scores, epilepsy_scores] "
   ]
  },
  {
   "cell_type": "markdown",
   "metadata": {},
   "source": [
    "#### Normality checking"
   ]
  },
  {
   "cell_type": "code",
   "execution_count": 6,
   "metadata": {},
   "outputs": [
    {
     "name": "stdout",
     "output_type": "stream",
     "text": [
      "Shapiro-Wilk test for Normal children:\n",
      "Statistic: 0.942033588886261, p-value: 0.2618934214115143\n",
      "The data appears to be normally distributed.\n",
      "\n",
      "Shapiro-Wilk test for Autistic children:\n",
      "Statistic: 0.8562055230140686, p-value: 0.01062549278140068\n",
      "The data does not appear to be normally distributed.\n",
      "\n",
      "Shapiro-Wilk test for Children with epilepsy:\n",
      "Statistic: 0.9467161893844604, p-value: 0.34695833921432495\n",
      "The data appears to be normally distributed.\n",
      "\n"
     ]
    }
   ],
   "source": [
    "cols = [normal_scores, autistic_scores, epilepsy_scores]\n",
    "\n",
    "for label, scores in data.items():\n",
    "    if None not in scores:  # Exclude None values\n",
    "        stat, p = shapiro(scores)\n",
    "        print(f'Shapiro-Wilk test for {label}:')\n",
    "        print(f'Statistic: {stat}, p-value: {p}')\n",
    "        if p > 0.05:\n",
    "            print('The data appears to be normally distributed.')\n",
    "        else:\n",
    "            print('The data does not appear to be normally distributed.')\n",
    "        print()\n",
    "    else:\n",
    "        print(f'Shapiro-Wilk test for {label}:')\n",
    "        print('Data contains missing values, test cannot be performed.')\n",
    "        print()"
   ]
  },
  {
   "cell_type": "markdown",
   "metadata": {},
   "source": [
    "#### **Since the memory scores for autistic children is not a normal distribution, we perform the Kruskal wallis test instead of normal ANOVA**"
   ]
  },
  {
   "cell_type": "code",
   "execution_count": 55,
   "metadata": {},
   "outputs": [
    {
     "name": "stdout",
     "output_type": "stream",
     "text": [
      "Kruskal-Wallis Test:\n",
      "Statistic: 24.96372784522497, p-value: 3.7948566447011024e-06\n"
     ]
    }
   ],
   "source": [
    "statistic, p_value = kruskal(normal_scores, autistic_scores, epilepsy_scores)\n",
    "\n",
    "# Print Kruskal-Wallis test results\n",
    "print(\"Kruskal-Wallis Test:\")\n",
    "print(f\"Statistic: {statistic}, p-value: {p_value}\")"
   ]
  },
  {
   "cell_type": "markdown",
   "metadata": {},
   "source": [
    "Since the p-value (0.00134) is less than the typical significance level of 0.05, we reject the null hypothesis of equal variances. This means that there is significant evidence to suggest that the variances of the three groups (\"Normal children\", \"Autistic children\", and \"Children with epilepsy\") are not equal.\n"
   ]
  },
  {
   "cell_type": "markdown",
   "metadata": {},
   "source": [
    "Based on the Kruskal results:\n",
    "\n",
    "+ F-statistic: 24.9637\n",
    "+ p-value: 3.423229-08\n",
    "\n",
    "1. Since the p-value is much smaller than the typical significance level of 0.05, we reject the null hypothesis. \n",
    "\n",
    "2. This means that there is strong evidence to suggest that there is a statistically significant difference between the mean memory scores of at least two of the three groups (Normal children, Autistic children, and Children with epilepsy)."
   ]
  },
  {
   "cell_type": "markdown",
   "metadata": {},
   "source": [
    "#### Post Hoc"
   ]
  },
  {
   "cell_type": "code",
   "execution_count": 10,
   "metadata": {},
   "outputs": [
    {
     "data": {
      "text/html": [
       "<div>\n",
       "<style scoped>\n",
       "    .dataframe tbody tr th:only-of-type {\n",
       "        vertical-align: middle;\n",
       "    }\n",
       "\n",
       "    .dataframe tbody tr th {\n",
       "        vertical-align: top;\n",
       "    }\n",
       "\n",
       "    .dataframe thead th {\n",
       "        text-align: right;\n",
       "    }\n",
       "</style>\n",
       "<table border=\"1\" class=\"dataframe\">\n",
       "  <thead>\n",
       "    <tr style=\"text-align: right;\">\n",
       "      <th></th>\n",
       "      <th>A</th>\n",
       "      <th>B</th>\n",
       "      <th>mean(A)</th>\n",
       "      <th>mean(B)</th>\n",
       "      <th>diff</th>\n",
       "      <th>se</th>\n",
       "      <th>T</th>\n",
       "      <th>df</th>\n",
       "      <th>pval</th>\n",
       "      <th>hedges</th>\n",
       "    </tr>\n",
       "  </thead>\n",
       "  <tbody>\n",
       "    <tr>\n",
       "      <th>0</th>\n",
       "      <td>Autistic children</td>\n",
       "      <td>Children with epilepsy</td>\n",
       "      <td>8.0</td>\n",
       "      <td>22.0</td>\n",
       "      <td>-14.0</td>\n",
       "      <td>2.878159</td>\n",
       "      <td>-4.864221</td>\n",
       "      <td>33.655600</td>\n",
       "      <td>7.660203e-05</td>\n",
       "      <td>-1.554395</td>\n",
       "    </tr>\n",
       "    <tr>\n",
       "      <th>1</th>\n",
       "      <td>Autistic children</td>\n",
       "      <td>Normal children</td>\n",
       "      <td>8.0</td>\n",
       "      <td>24.1</td>\n",
       "      <td>-16.1</td>\n",
       "      <td>1.988328</td>\n",
       "      <td>-8.097257</td>\n",
       "      <td>24.767154</td>\n",
       "      <td>5.948007e-08</td>\n",
       "      <td>-2.658193</td>\n",
       "    </tr>\n",
       "    <tr>\n",
       "      <th>2</th>\n",
       "      <td>Children with epilepsy</td>\n",
       "      <td>Normal children</td>\n",
       "      <td>22.0</td>\n",
       "      <td>24.1</td>\n",
       "      <td>-2.1</td>\n",
       "      <td>2.417662</td>\n",
       "      <td>-0.868608</td>\n",
       "      <td>23.269404</td>\n",
       "      <td>6.649530e-01</td>\n",
       "      <td>-0.277877</td>\n",
       "    </tr>\n",
       "  </tbody>\n",
       "</table>\n",
       "</div>"
      ],
      "text/plain": [
       "                        A                       B  mean(A)  mean(B)  diff  \\\n",
       "0       Autistic children  Children with epilepsy      8.0     22.0 -14.0   \n",
       "1       Autistic children         Normal children      8.0     24.1 -16.1   \n",
       "2  Children with epilepsy         Normal children     22.0     24.1  -2.1   \n",
       "\n",
       "         se         T         df          pval    hedges  \n",
       "0  2.878159 -4.864221  33.655600  7.660203e-05 -1.554395  \n",
       "1  1.988328 -8.097257  24.767154  5.948007e-08 -2.658193  \n",
       "2  2.417662 -0.868608  23.269404  6.649530e-01 -0.277877  "
      ]
     },
     "execution_count": 10,
     "metadata": {},
     "output_type": "execute_result"
    }
   ],
   "source": [
    "posthoc_results = pg.pairwise_gameshowell(dv='Memory Scores', between='Group', data=df_melted)\n",
    "posthoc_results"
   ]
  },
  {
   "cell_type": "markdown",
   "metadata": {},
   "source": [
    "### **Observations**: \n",
    "\n",
    "Based on the Games-Howell test results:\n",
    "\n",
    "1. There is a statistically significant difference in memory scores between Autistic children and Children with epilepsy, with Autistic children having lower scores. The effect size is large (Hedges' g = -1.588745).4\n",
    "\n",
    "2. There is also a statistically significant difference between Autistic children and Normal children, with Autistic children again having lower scores. The effect size is large (Hedges' g = -2.547258).\n",
    "\n",
    "3. There is no statistically significant difference in memory scores between Children with epilepsy and Normal children."
   ]
  },
  {
   "cell_type": "code",
   "execution_count": 47,
   "metadata": {},
   "outputs": [
    {
     "data": {
      "image/png": "[encoded data removed]",
      "text/plain": [
       "<Figure size 720x936 with 1 Axes>"
      ]
     },
     "metadata": {
      "needs_background": "light"
     },
     "output_type": "display_data"
    }
   ],
   "source": [
    "plt.figure(figsize=(10, 13))  \n",
    "\n",
    "plt.bar(df1.columns, df1.mean(), yerr = df1.std())\n",
    "plt.ylabel(\"Memory Score\")\n",
    "plt.grid(True)\n",
    "plt.title(\"Memory Score compared with neurological condition\")\n",
    "plt.show()"
   ]
  },
  {
   "cell_type": "markdown",
   "metadata": {},
   "source": [
    "## Driving"
   ]
  },
  {
   "cell_type": "code",
   "execution_count": 29,
   "metadata": {},
   "outputs": [
    {
     "data": {
      "text/html": [
       "<div>\n",
       "<style scoped>\n",
       "    .dataframe tbody tr th:only-of-type {\n",
       "        vertical-align: middle;\n",
       "    }\n",
       "\n",
       "    .dataframe tbody tr th {\n",
       "        vertical-align: top;\n",
       "    }\n",
       "\n",
       "    .dataframe thead th {\n",
       "        text-align: right;\n",
       "    }\n",
       "</style>\n",
       "<table border=\"1\" class=\"dataframe\">\n",
       "  <thead>\n",
       "    <tr style=\"text-align: right;\">\n",
       "      <th></th>\n",
       "      <th>1 night of sleep deprivation</th>\n",
       "      <th>2 nights of sleep deprivation</th>\n",
       "      <th>3 nights of sleep deprivation</th>\n",
       "    </tr>\n",
       "  </thead>\n",
       "  <tbody>\n",
       "    <tr>\n",
       "      <th>0</th>\n",
       "      <td>15</td>\n",
       "      <td>10</td>\n",
       "      <td>5</td>\n",
       "    </tr>\n",
       "    <tr>\n",
       "      <th>1</th>\n",
       "      <td>18</td>\n",
       "      <td>16</td>\n",
       "      <td>3</td>\n",
       "    </tr>\n",
       "    <tr>\n",
       "      <th>2</th>\n",
       "      <td>20</td>\n",
       "      <td>13</td>\n",
       "      <td>9</td>\n",
       "    </tr>\n",
       "    <tr>\n",
       "      <th>3</th>\n",
       "      <td>15</td>\n",
       "      <td>11</td>\n",
       "      <td>6</td>\n",
       "    </tr>\n",
       "    <tr>\n",
       "      <th>4</th>\n",
       "      <td>12</td>\n",
       "      <td>9</td>\n",
       "      <td>4</td>\n",
       "    </tr>\n",
       "    <tr>\n",
       "      <th>5</th>\n",
       "      <td>18</td>\n",
       "      <td>14</td>\n",
       "      <td>7</td>\n",
       "    </tr>\n",
       "    <tr>\n",
       "      <th>6</th>\n",
       "      <td>16</td>\n",
       "      <td>13</td>\n",
       "      <td>8</td>\n",
       "    </tr>\n",
       "    <tr>\n",
       "      <th>7</th>\n",
       "      <td>17</td>\n",
       "      <td>14</td>\n",
       "      <td>2</td>\n",
       "    </tr>\n",
       "    <tr>\n",
       "      <th>8</th>\n",
       "      <td>14</td>\n",
       "      <td>15</td>\n",
       "      <td>4</td>\n",
       "    </tr>\n",
       "    <tr>\n",
       "      <th>9</th>\n",
       "      <td>19</td>\n",
       "      <td>14</td>\n",
       "      <td>6</td>\n",
       "    </tr>\n",
       "    <tr>\n",
       "      <th>10</th>\n",
       "      <td>20</td>\n",
       "      <td>12</td>\n",
       "      <td>9</td>\n",
       "    </tr>\n",
       "    <tr>\n",
       "      <th>11</th>\n",
       "      <td>15</td>\n",
       "      <td>13</td>\n",
       "      <td>5</td>\n",
       "    </tr>\n",
       "    <tr>\n",
       "      <th>12</th>\n",
       "      <td>16</td>\n",
       "      <td>14</td>\n",
       "      <td>3</td>\n",
       "    </tr>\n",
       "    <tr>\n",
       "      <th>13</th>\n",
       "      <td>18</td>\n",
       "      <td>12</td>\n",
       "      <td>7</td>\n",
       "    </tr>\n",
       "    <tr>\n",
       "      <th>14</th>\n",
       "      <td>19</td>\n",
       "      <td>11</td>\n",
       "      <td>1</td>\n",
       "    </tr>\n",
       "    <tr>\n",
       "      <th>15</th>\n",
       "      <td>15</td>\n",
       "      <td>15</td>\n",
       "      <td>8</td>\n",
       "    </tr>\n",
       "    <tr>\n",
       "      <th>16</th>\n",
       "      <td>17</td>\n",
       "      <td>14</td>\n",
       "      <td>7</td>\n",
       "    </tr>\n",
       "    <tr>\n",
       "      <th>17</th>\n",
       "      <td>18</td>\n",
       "      <td>16</td>\n",
       "      <td>3</td>\n",
       "    </tr>\n",
       "    <tr>\n",
       "      <th>18</th>\n",
       "      <td>17</td>\n",
       "      <td>12</td>\n",
       "      <td>6</td>\n",
       "    </tr>\n",
       "    <tr>\n",
       "      <th>19</th>\n",
       "      <td>16</td>\n",
       "      <td>13</td>\n",
       "      <td>4</td>\n",
       "    </tr>\n",
       "  </tbody>\n",
       "</table>\n",
       "</div>"
      ],
      "text/plain": [
       "    1 night of sleep deprivation  2 nights of sleep deprivation  \\\n",
       "0                             15                             10   \n",
       "1                             18                             16   \n",
       "2                             20                             13   \n",
       "3                             15                             11   \n",
       "4                             12                              9   \n",
       "5                             18                             14   \n",
       "6                             16                             13   \n",
       "7                             17                             14   \n",
       "8                             14                             15   \n",
       "9                             19                             14   \n",
       "10                            20                             12   \n",
       "11                            15                             13   \n",
       "12                            16                             14   \n",
       "13                            18                             12   \n",
       "14                            19                             11   \n",
       "15                            15                             15   \n",
       "16                            17                             14   \n",
       "17                            18                             16   \n",
       "18                            17                             12   \n",
       "19                            16                             13   \n",
       "\n",
       "    3 nights of sleep deprivation  \n",
       "0                               5  \n",
       "1                               3  \n",
       "2                               9  \n",
       "3                               6  \n",
       "4                               4  \n",
       "5                               7  \n",
       "6                               8  \n",
       "7                               2  \n",
       "8                               4  \n",
       "9                               6  \n",
       "10                              9  \n",
       "11                              5  \n",
       "12                              3  \n",
       "13                              7  \n",
       "14                              1  \n",
       "15                              8  \n",
       "16                              7  \n",
       "17                              3  \n",
       "18                              6  \n",
       "19                              4  "
      ]
     },
     "execution_count": 29,
     "metadata": {},
     "output_type": "execute_result"
    }
   ],
   "source": [
    "data2 = {\n",
    "    '1 night of sleep deprivation': [15, 18, 20, 15, 12, 18, 16, 17, 14, 19, 20, 15, 16, 18, 19, 15, 17, 18, 17, 16],\n",
    "    '2 nights of sleep deprivation': [10, 16, 13, 11, 9, 14, 13, 14, 15, 14, 12, 13, 14, 12, 11, 15, 14, 16, 12, 13],\n",
    "    '3 nights of sleep deprivation': [5, 3, 9, 6, 4, 7, 8, 2, 4, 6, 9, 5, 3, 7, 1, 8, 7, 3, 6, 4]\n",
    "}\n",
    "\n",
    "df2 = pd.DataFrame(data2)\n",
    "df2"
   ]
  },
  {
   "cell_type": "markdown",
   "metadata": {},
   "source": [
    "#### Normality checking"
   ]
  },
  {
   "cell_type": "code",
   "execution_count": 12,
   "metadata": {},
   "outputs": [
    {
     "name": "stdout",
     "output_type": "stream",
     "text": [
      "Shapiro-Wilk test for 1 night of sleep deprivation:\n",
      "Statistic: 0.9619258046150208, p-value: 0.5830006003379822\n",
      "The data appears to be normally distributed.\n",
      "\n",
      "Shapiro-Wilk test for 2 nights of sleep deprivation:\n",
      "Statistic: 0.9609363675117493, p-value: 0.5627211928367615\n",
      "The data appears to be normally distributed.\n",
      "\n",
      "Shapiro-Wilk test for 3 nights of sleep deprivation:\n",
      "Statistic: 0.9630073308944702, p-value: 0.6055172681808472\n",
      "The data appears to be normally distributed.\n",
      "\n"
     ]
    }
   ],
   "source": [
    "for condition, scores in data2.items():\n",
    "    stat, p = shapiro(scores)\n",
    "    print(f'Shapiro-Wilk test for {condition}:')\n",
    "    print(f'Statistic: {stat}, p-value: {p}')\n",
    "    if p > 0.05:\n",
    "        print('The data appears to be normally distributed.')\n",
    "    else:\n",
    "        print('The data does not appear to be normally distributed.')\n",
    "    print()"
   ]
  },
  {
   "cell_type": "markdown",
   "metadata": {},
   "source": [
    "## Condition 1 - same people in all 3 groups"
   ]
  },
  {
   "cell_type": "markdown",
   "metadata": {},
   "source": [
    "#### Sphericity of variance - repeated measures anova"
   ]
  },
  {
   "cell_type": "code",
   "execution_count": 27,
   "metadata": {},
   "outputs": [
    {
     "data": {
      "text/html": [
       "<div>\n",
       "<style scoped>\n",
       "    .dataframe tbody tr th:only-of-type {\n",
       "        vertical-align: middle;\n",
       "    }\n",
       "\n",
       "    .dataframe tbody tr th {\n",
       "        vertical-align: top;\n",
       "    }\n",
       "\n",
       "    .dataframe thead th {\n",
       "        text-align: right;\n",
       "    }\n",
       "</style>\n",
       "<table border=\"1\" class=\"dataframe\">\n",
       "  <thead>\n",
       "    <tr style=\"text-align: right;\">\n",
       "      <th></th>\n",
       "      <th>Source</th>\n",
       "      <th>ddof1</th>\n",
       "      <th>ddof2</th>\n",
       "      <th>F</th>\n",
       "      <th>p-unc</th>\n",
       "      <th>ng2</th>\n",
       "      <th>eps</th>\n",
       "    </tr>\n",
       "  </thead>\n",
       "  <tbody>\n",
       "    <tr>\n",
       "      <th>0</th>\n",
       "      <td>Condition</td>\n",
       "      <td>2</td>\n",
       "      <td>38</td>\n",
       "      <td>178.017544</td>\n",
       "      <td>5.020250e-20</td>\n",
       "      <td>0.843378</td>\n",
       "      <td>0.923463</td>\n",
       "    </tr>\n",
       "  </tbody>\n",
       "</table>\n",
       "</div>"
      ],
      "text/plain": [
       "      Source  ddof1  ddof2           F         p-unc       ng2       eps\n",
       "0  Condition      2     38  178.017544  5.020250e-20  0.843378  0.923463"
      ]
     },
     "execution_count": 27,
     "metadata": {},
     "output_type": "execute_result"
    }
   ],
   "source": [
    "import pingouin as pg\n",
    "\n",
    "df2_new = df2\n",
    "df2_new['Subject'] = range(1, len(df2_new) + 1)\n",
    "\n",
    "# Melt the DataFrame to long format\n",
    "df2_long = df2_new.melt(id_vars='Subject', var_name='Condition', value_name='Score')\n",
    "\n",
    "# Perform repeated measures ANOVA\n",
    "rm_anova_result = pg.rm_anova(data=df2_long, dv='Score', within='Condition', subject='Subject')\n",
    "rm_anova_result"
   ]
  },
  {
   "cell_type": "markdown",
   "metadata": {},
   "source": [
    "+ F-value: The F-value is 178.017544.\n",
    "+ p-value: The p-value is 5.020250e-20, which is extremely small.\n",
    "+ Effect size (Partial eta-squared): The partial eta-squared (η²) is 0.843378, indicating a large effect size. This means that a significant proportion of the variance in driving ability scores can be explained by the different levels of sleep deprivation.\n",
    "\n",
    "1. In summary, the repeated measures ANOVA suggests that there are significant differences in driving ability scores across the different levels of sleep deprivation. The effect size is large, indicating that sleep deprivation has a substantial impact on driving ability. \n",
    "\n",
    "2. Additionally, the assumption of sphericity is not strongly violated, as indicated by the epsilon value."
   ]
  },
  {
   "cell_type": "markdown",
   "metadata": {},
   "source": [
    "#### **Since F-statistic is significant, we perform the Post-hoc test**"
   ]
  },
  {
   "cell_type": "markdown",
   "metadata": {},
   "source": [
    "#### Post Hoc"
   ]
  },
  {
   "cell_type": "code",
   "execution_count": 14,
   "metadata": {},
   "outputs": [
    {
     "name": "stderr",
     "output_type": "stream",
     "text": [
      "/home/hp/.local/lib/python3.8/site-packages/pingouin/pairwise.py:28: UserWarning: pairwise_ttests is deprecated, use pairwise_tests instead.\n",
      "  warnings.warn(\"pairwise_ttests is deprecated, use pairwise_tests instead.\", UserWarning)\n"
     ]
    },
    {
     "data": {
      "text/html": [
       "<div>\n",
       "<style scoped>\n",
       "    .dataframe tbody tr th:only-of-type {\n",
       "        vertical-align: middle;\n",
       "    }\n",
       "\n",
       "    .dataframe tbody tr th {\n",
       "        vertical-align: top;\n",
       "    }\n",
       "\n",
       "    .dataframe thead th {\n",
       "        text-align: right;\n",
       "    }\n",
       "</style>\n",
       "<table border=\"1\" class=\"dataframe\">\n",
       "  <thead>\n",
       "    <tr style=\"text-align: right;\">\n",
       "      <th></th>\n",
       "      <th>Contrast</th>\n",
       "      <th>A</th>\n",
       "      <th>B</th>\n",
       "      <th>Paired</th>\n",
       "      <th>Parametric</th>\n",
       "      <th>T</th>\n",
       "      <th>dof</th>\n",
       "      <th>alternative</th>\n",
       "      <th>p-unc</th>\n",
       "      <th>p-corr</th>\n",
       "      <th>p-adjust</th>\n",
       "      <th>BF10</th>\n",
       "      <th>hedges</th>\n",
       "    </tr>\n",
       "  </thead>\n",
       "  <tbody>\n",
       "    <tr>\n",
       "      <th>0</th>\n",
       "      <td>Condition</td>\n",
       "      <td>1 night of sleep deprivation</td>\n",
       "      <td>2 nights of sleep deprivation</td>\n",
       "      <td>True</td>\n",
       "      <td>True</td>\n",
       "      <td>6.933937</td>\n",
       "      <td>19.0</td>\n",
       "      <td>two-sided</td>\n",
       "      <td>1.308794e-06</td>\n",
       "      <td>3.926383e-06</td>\n",
       "      <td>bonferroni</td>\n",
       "      <td>1.401e+04</td>\n",
       "      <td>1.833255</td>\n",
       "    </tr>\n",
       "    <tr>\n",
       "      <th>1</th>\n",
       "      <td>Condition</td>\n",
       "      <td>1 night of sleep deprivation</td>\n",
       "      <td>3 nights of sleep deprivation</td>\n",
       "      <td>True</td>\n",
       "      <td>True</td>\n",
       "      <td>18.467681</td>\n",
       "      <td>19.0</td>\n",
       "      <td>two-sided</td>\n",
       "      <td>1.349369e-13</td>\n",
       "      <td>4.048107e-13</td>\n",
       "      <td>bonferroni</td>\n",
       "      <td>4.551e+10</td>\n",
       "      <td>5.073630</td>\n",
       "    </tr>\n",
       "    <tr>\n",
       "      <th>2</th>\n",
       "      <td>Condition</td>\n",
       "      <td>2 nights of sleep deprivation</td>\n",
       "      <td>3 nights of sleep deprivation</td>\n",
       "      <td>True</td>\n",
       "      <td>True</td>\n",
       "      <td>11.181630</td>\n",
       "      <td>19.0</td>\n",
       "      <td>two-sided</td>\n",
       "      <td>8.459928e-10</td>\n",
       "      <td>2.537979e-09</td>\n",
       "      <td>bonferroni</td>\n",
       "      <td>1.248e+07</td>\n",
       "      <td>3.573407</td>\n",
       "    </tr>\n",
       "  </tbody>\n",
       "</table>\n",
       "</div>"
      ],
      "text/plain": [
       "    Contrast                              A                              B  \\\n",
       "0  Condition   1 night of sleep deprivation  2 nights of sleep deprivation   \n",
       "1  Condition   1 night of sleep deprivation  3 nights of sleep deprivation   \n",
       "2  Condition  2 nights of sleep deprivation  3 nights of sleep deprivation   \n",
       "\n",
       "   Paired  Parametric          T   dof alternative         p-unc  \\\n",
       "0    True        True   6.933937  19.0   two-sided  1.308794e-06   \n",
       "1    True        True  18.467681  19.0   two-sided  1.349369e-13   \n",
       "2    True        True  11.181630  19.0   two-sided  8.459928e-10   \n",
       "\n",
       "         p-corr    p-adjust       BF10    hedges  \n",
       "0  3.926383e-06  bonferroni  1.401e+04  1.833255  \n",
       "1  4.048107e-13  bonferroni  4.551e+10  5.073630  \n",
       "2  2.537979e-09  bonferroni  1.248e+07  3.573407  "
      ]
     },
     "execution_count": 14,
     "metadata": {},
     "output_type": "execute_result"
    }
   ],
   "source": [
    "posthoc_bonferroni = pg.pairwise_ttests(data=df2_long, dv='Score', within='Condition', subject='Subject', parametric=True, padjust='bonferroni')\n",
    "posthoc_bonferroni"
   ]
  },
  {
   "cell_type": "markdown",
   "metadata": {},
   "source": [
    "### **Inference**\n",
    "\n",
    "1. The difference in driving ability for individuals when they had 1 night of sleep deprivation compared to when the same individuals experienced 2 nights of deprivation is 3.7 units (p < 0.001).\n",
    "\n",
    "2. The difference in driving ability for individuals when they had 1 night of sleep deprivation compared to when the same individuals experienced 3 nights of deprivation is 11.4 units (p < 0.001).\n",
    "\n",
    "3. The difference in driving ability for individuals when they had 2 nights of sleep deprivation compared to when the same individuals experienced 3 nights of deprivation is 7.7 units (p < 0.001).\n",
    "\n",
    "The most significant difference is observed when individuals experienced 1 night of sleep deprivation compared to when the same individuals experienced 3 nights of deprivation, with a difference of 11.4 units, and the p-value indicating extremely high significance (p < 0.001)."
   ]
  },
  {
   "cell_type": "markdown",
   "metadata": {},
   "source": [
    "## Condition 2 - different people in all 3 groups"
   ]
  },
  {
   "cell_type": "markdown",
   "metadata": {},
   "source": [
    "#### Homogeneity of variance - levene"
   ]
  },
  {
   "cell_type": "code",
   "execution_count": 15,
   "metadata": {},
   "outputs": [],
   "source": [
    "group1 = data2['1 night of sleep deprivation']\n",
    "group2 = data2['2 nights of sleep deprivation']\n",
    "group3 = data2['3 nights of sleep deprivation']"
   ]
  },
  {
   "cell_type": "code",
   "execution_count": 16,
   "metadata": {},
   "outputs": [
    {
     "name": "stdout",
     "output_type": "stream",
     "text": [
      "Levene's test statistic: 0.8974518334369174\n",
      "p-value: 0.41328764023599707\n",
      "There is no significant difference in variances across groups, indicating homogeneity of variances.\n"
     ]
    }
   ],
   "source": [
    "# Perform Levene's test\n",
    "statistic, p_value = levene(group1, group2, group3)\n",
    "\n",
    "print(f'Levene\\'s test statistic: {statistic}')\n",
    "print(f'p-value: {p_value}')\n",
    "\n",
    "if p_value < 0.05:\n",
    "    print('The variances are significantly different across groups, indicating heterogeneity of variances.')\n",
    "else:\n",
    "    print('There is no significant difference in variances across groups, indicating homogeneity of variances.')"
   ]
  },
  {
   "cell_type": "markdown",
   "metadata": {},
   "source": [
    "Since p-values > 0.05, Levene's test indicates that there is no significant difference in variances across groups. Hence the assumption of homogeneity of variances is met."
   ]
  },
  {
   "cell_type": "markdown",
   "metadata": {},
   "source": [
    "### One-way Anova"
   ]
  },
  {
   "cell_type": "code",
   "execution_count": 17,
   "metadata": {},
   "outputs": [
    {
     "name": "stdout",
     "output_type": "stream",
     "text": [
      "One-way ANOVA F-statistic: 153.46706467661707\n",
      "p-value: 1.1305349928649485e-23\n",
      "The one-way ANOVA result is statistically significant, indicating at least one group mean is significantly different from the others.\n"
     ]
    }
   ],
   "source": [
    "f_statistic, p_value = f_oneway(group1, group2, group3)\n",
    "\n",
    "print(f'One-way ANOVA F-statistic: {f_statistic}')\n",
    "print(f'p-value: {p_value}')\n",
    "\n",
    "if p_value < 0.05:\n",
    "    print('The one-way ANOVA result is statistically significant, indicating at least one group mean is significantly different from the others.')\n",
    "else:\n",
    "    print('The one-way ANOVA result is not statistically significant, indicating no significant differences between group means.')"
   ]
  },
  {
   "cell_type": "markdown",
   "metadata": {},
   "source": [
    "#### **Since the F-statistic is significant, we perform the Post-hoc test**"
   ]
  },
  {
   "cell_type": "markdown",
   "metadata": {},
   "source": [
    "### Post Hoc - Tukey HSD"
   ]
  },
  {
   "cell_type": "code",
   "execution_count": 39,
   "metadata": {},
   "outputs": [
    {
     "data": {
      "text/html": [
       "<div>\n",
       "<style scoped>\n",
       "    .dataframe tbody tr th:only-of-type {\n",
       "        vertical-align: middle;\n",
       "    }\n",
       "\n",
       "    .dataframe tbody tr th {\n",
       "        vertical-align: top;\n",
       "    }\n",
       "\n",
       "    .dataframe thead th {\n",
       "        text-align: right;\n",
       "    }\n",
       "</style>\n",
       "<table border=\"1\" class=\"dataframe\">\n",
       "  <thead>\n",
       "    <tr style=\"text-align: right;\">\n",
       "      <th></th>\n",
       "      <th>A</th>\n",
       "      <th>B</th>\n",
       "      <th>mean(A)</th>\n",
       "      <th>mean(B)</th>\n",
       "      <th>diff</th>\n",
       "      <th>se</th>\n",
       "      <th>T</th>\n",
       "      <th>p-tukey</th>\n",
       "      <th>hedges</th>\n",
       "    </tr>\n",
       "  </thead>\n",
       "  <tbody>\n",
       "    <tr>\n",
       "      <th>0</th>\n",
       "      <td>1 night of sleep deprivation</td>\n",
       "      <td>2 nights of sleep deprivation</td>\n",
       "      <td>16.75</td>\n",
       "      <td>13.05</td>\n",
       "      <td>3.7</td>\n",
       "      <td>0.66392</td>\n",
       "      <td>5.572962</td>\n",
       "      <td>0.000002</td>\n",
       "      <td>1.833255</td>\n",
       "    </tr>\n",
       "    <tr>\n",
       "      <th>1</th>\n",
       "      <td>1 night of sleep deprivation</td>\n",
       "      <td>3 nights of sleep deprivation</td>\n",
       "      <td>16.75</td>\n",
       "      <td>5.35</td>\n",
       "      <td>11.4</td>\n",
       "      <td>0.66392</td>\n",
       "      <td>17.170749</td>\n",
       "      <td>0.000000</td>\n",
       "      <td>5.073630</td>\n",
       "    </tr>\n",
       "    <tr>\n",
       "      <th>2</th>\n",
       "      <td>2 nights of sleep deprivation</td>\n",
       "      <td>3 nights of sleep deprivation</td>\n",
       "      <td>13.05</td>\n",
       "      <td>5.35</td>\n",
       "      <td>7.7</td>\n",
       "      <td>0.66392</td>\n",
       "      <td>11.597787</td>\n",
       "      <td>0.000000</td>\n",
       "      <td>3.573407</td>\n",
       "    </tr>\n",
       "  </tbody>\n",
       "</table>\n",
       "</div>"
      ],
      "text/plain": [
       "                               A                              B  mean(A)  \\\n",
       "0   1 night of sleep deprivation  2 nights of sleep deprivation    16.75   \n",
       "1   1 night of sleep deprivation  3 nights of sleep deprivation    16.75   \n",
       "2  2 nights of sleep deprivation  3 nights of sleep deprivation    13.05   \n",
       "\n",
       "   mean(B)  diff       se          T   p-tukey    hedges  \n",
       "0    13.05   3.7  0.66392   5.572962  0.000002  1.833255  \n",
       "1     5.35  11.4  0.66392  17.170749  0.000000  5.073630  \n",
       "2     5.35   7.7  0.66392  11.597787  0.000000  3.573407  "
      ]
     },
     "execution_count": 39,
     "metadata": {},
     "output_type": "execute_result"
    }
   ],
   "source": [
    "posthoc_results = pg.pairwise_tukey(dv='Score', between='Condition', data=df2_long)\n",
    "posthoc_results"
   ]
  },
  {
   "cell_type": "markdown",
   "metadata": {},
   "source": [
    "### **Inference**\n",
    "\n",
    "1. Comparing individuals who experienced 1 night of sleep deprivation to those who experienced 2 nights, there is a mean difference in driving ability of 3.7 units. This difference is statistically significant (p < 0.05).\n",
    "\n",
    "2. When comparing individuals who experienced 1 night of sleep deprivation to those who experienced 3 nights, the mean difference in driving ability is 11.4 units. This difference is highly statistically significant (p < 0.001).\n",
    "\n",
    "3. Finally, comparing individuals who experienced 2 nights of sleep deprivation to those who experienced 3 nights, there is a mean difference in driving ability of 7.7 units, which is highly statistically significant (p < 0.001).\n",
    "\n",
    "In conclusion, the data reaffirm that as the duration of sleep deprivation increases, there is a significant decrease in driving ability. This highlights the critical importance of adequate sleep for maintaining safe driving practices."
   ]
  },
  {
   "cell_type": "markdown",
   "metadata": {},
   "source": [
    "### Plot analysed data"
   ]
  },
  {
   "cell_type": "code",
   "execution_count": 44,
   "metadata": {},
   "outputs": [
    {
     "data": {
      "image/png": "[encoded data removed]",
      "text/plain": [
       "<Figure size 720x936 with 1 Axes>"
      ]
     },
     "metadata": {
      "needs_background": "light"
     },
     "output_type": "display_data"
    }
   ],
   "source": [
    "plt.figure(figsize=(10, 13))  \n",
    "\n",
    "plt.bar(df2.columns, df2.mean(), yerr = df2.std())\n",
    "plt.ylabel(\"Driving Ability\")\n",
    "plt.grid(True)\n",
    "plt.title(\"Driving Ability compared with night of sleep derivation\")\n",
    "# Display the plot\n",
    "plt.show()"
   ]
  }
 ],
 "metadata": {
  "kernelspec": {
   "display_name": "Python 3",
   "language": "python",
   "name": "python3"
  },
  "language_info": {
   "codemirror_mode": {
    "name": "ipython",
    "version": 3
   },
   "file_extension": ".py",
   "mimetype": "text/x-python",
   "name": "python",
   "nbconvert_exporter": "python",
   "pygments_lexer": "ipython3",
   "version": "3.8.10"
  }
 },
 "nbformat": 4,
 "nbformat_minor": 2
}
