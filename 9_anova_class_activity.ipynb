{
 "cells": [
  {
   "cell_type": "markdown",
   "metadata": {},
   "source": [
    "+ Name: Vanshita\n",
    "+ Roll Number: 2021101102"
   ]
  },
  {
   "cell_type": "code",
   "execution_count": 2,
   "metadata": {},
   "outputs": [],
   "source": [
    "import pandas as pd\n",
    "import numpy as np\n",
    "from scipy.stats import shapiro, levene\n",
    "import pingouin as pg\n",
    "import matplotlib.pyplot as plt\n",
    "import seaborn as sns\n",
    "from scipy import stats\n",
    "from statsmodels.stats.multicomp import pairwise_tukeyhsd\n",
    "from scipy.stats import f_oneway\n",
    "import pingouin as pg"
   ]
  },
  {
   "cell_type": "code",
   "execution_count": 3,
   "metadata": {},
   "outputs": [
    {
     "data": {
      "text/html": [
       "<div>\n",
       "<style scoped>\n",
       "    .dataframe tbody tr th:only-of-type {\n",
       "        vertical-align: middle;\n",
       "    }\n",
       "\n",
       "    .dataframe tbody tr th {\n",
       "        vertical-align: top;\n",
       "    }\n",
       "\n",
       "    .dataframe thead th {\n",
       "        text-align: right;\n",
       "    }\n",
       "</style>\n",
       "<table border=\"1\" class=\"dataframe\">\n",
       "  <thead>\n",
       "    <tr style=\"text-align: right;\">\n",
       "      <th></th>\n",
       "      <th>Home School</th>\n",
       "      <th>Boarding School</th>\n",
       "      <th>Day School</th>\n",
       "    </tr>\n",
       "  </thead>\n",
       "  <tbody>\n",
       "    <tr>\n",
       "      <th>0</th>\n",
       "      <td>89</td>\n",
       "      <td>85</td>\n",
       "      <td>91</td>\n",
       "    </tr>\n",
       "    <tr>\n",
       "      <th>1</th>\n",
       "      <td>75</td>\n",
       "      <td>78</td>\n",
       "      <td>88</td>\n",
       "    </tr>\n",
       "    <tr>\n",
       "      <th>2</th>\n",
       "      <td>49</td>\n",
       "      <td>59</td>\n",
       "      <td>84</td>\n",
       "    </tr>\n",
       "    <tr>\n",
       "      <th>3</th>\n",
       "      <td>87</td>\n",
       "      <td>77</td>\n",
       "      <td>81</td>\n",
       "    </tr>\n",
       "    <tr>\n",
       "      <th>4</th>\n",
       "      <td>84</td>\n",
       "      <td>63</td>\n",
       "      <td>91</td>\n",
       "    </tr>\n",
       "    <tr>\n",
       "      <th>5</th>\n",
       "      <td>68</td>\n",
       "      <td>88</td>\n",
       "      <td>75</td>\n",
       "    </tr>\n",
       "    <tr>\n",
       "      <th>6</th>\n",
       "      <td>88</td>\n",
       "      <td>71</td>\n",
       "      <td>69</td>\n",
       "    </tr>\n",
       "    <tr>\n",
       "      <th>7</th>\n",
       "      <td>78</td>\n",
       "      <td>73</td>\n",
       "      <td>93</td>\n",
       "    </tr>\n",
       "    <tr>\n",
       "      <th>8</th>\n",
       "      <td>77</td>\n",
       "      <td>69</td>\n",
       "      <td>95</td>\n",
       "    </tr>\n",
       "    <tr>\n",
       "      <th>9</th>\n",
       "      <td>93</td>\n",
       "      <td>80</td>\n",
       "      <td>85</td>\n",
       "    </tr>\n",
       "    <tr>\n",
       "      <th>10</th>\n",
       "      <td>67</td>\n",
       "      <td>72</td>\n",
       "      <td>87</td>\n",
       "    </tr>\n",
       "    <tr>\n",
       "      <th>11</th>\n",
       "      <td>79</td>\n",
       "      <td>68</td>\n",
       "      <td>84</td>\n",
       "    </tr>\n",
       "    <tr>\n",
       "      <th>12</th>\n",
       "      <td>69</td>\n",
       "      <td>66</td>\n",
       "      <td>83</td>\n",
       "    </tr>\n",
       "    <tr>\n",
       "      <th>13</th>\n",
       "      <td>88</td>\n",
       "      <td>59</td>\n",
       "      <td>80</td>\n",
       "    </tr>\n",
       "    <tr>\n",
       "      <th>14</th>\n",
       "      <td>91</td>\n",
       "      <td>70</td>\n",
       "      <td>77</td>\n",
       "    </tr>\n",
       "  </tbody>\n",
       "</table>\n",
       "</div>"
      ],
      "text/plain": [
       "    Home School  Boarding School  Day School\n",
       "0            89               85          91\n",
       "1            75               78          88\n",
       "2            49               59          84\n",
       "3            87               77          81\n",
       "4            84               63          91\n",
       "5            68               88          75\n",
       "6            88               71          69\n",
       "7            78               73          93\n",
       "8            77               69          95\n",
       "9            93               80          85\n",
       "10           67               72          87\n",
       "11           79               68          84\n",
       "12           69               66          83\n",
       "13           88               59          80\n",
       "14           91               70          77"
      ]
     },
     "execution_count": 3,
     "metadata": {},
     "output_type": "execute_result"
    }
   ],
   "source": [
    "# Create DataFrame\n",
    "\n",
    "data = {\n",
    "    'Home School': [89, 75, 49, 87, 84, 68, 88, 78, 77, 93, 67, 79, 69, 88, 91],\n",
    "    'Boarding School': [85, 78, 59, 77, 63, 88, 71, 73, 69, 80, 72, 68, 66, 59, 70],\n",
    "    'Day School': [91, 88, 84, 81, 91, 75, 69, 93, 95, 85, 87, 84, 83, 80, 77]\n",
    "}\n",
    "\n",
    "df = pd.DataFrame(data)\n",
    "df"
   ]
  },
  {
   "cell_type": "code",
   "execution_count": 4,
   "metadata": {},
   "outputs": [],
   "source": [
    "home = df['Home School']\n",
    "boarding = df['Boarding School']\n",
    "day = df['Day School']"
   ]
  },
  {
   "cell_type": "markdown",
   "metadata": {},
   "source": [
    "#### Normality check"
   ]
  },
  {
   "cell_type": "code",
   "execution_count": 5,
   "metadata": {},
   "outputs": [
    {
     "name": "stdout",
     "output_type": "stream",
     "text": [
      "Normality Results:\n",
      "                  p-value Normal\n",
      "Home School      0.115225   True\n",
      "Boarding School  0.846614   True\n",
      "Day School       0.922713   True\n"
     ]
    }
   ],
   "source": [
    "from scipy.stats import shapiro\n",
    "\n",
    "normality_results = {}\n",
    "for column in df.columns:\n",
    "    stat, p = shapiro(df[column])\n",
    "    normality_results[column] = {'p-value': p, 'Normal': p > 0.05}\n",
    "\n",
    "print(\"Normality Results:\")\n",
    "print(pd.DataFrame(normality_results).T)"
   ]
  },
  {
   "cell_type": "markdown",
   "metadata": {},
   "source": [
    "#### Homogeneity of variances"
   ]
  },
  {
   "cell_type": "code",
   "execution_count": 6,
   "metadata": {},
   "outputs": [
    {
     "name": "stdout",
     "output_type": "stream",
     "text": [
      "Levene's test statistic: 1.6476912738792358\n",
      "p-value: 0.20469278196960214\n"
     ]
    }
   ],
   "source": [
    "statistic, pvalue = levene(home, boarding, day)\n",
    "\n",
    "print(\"Levene's test statistic:\", statistic)\n",
    "print(\"p-value:\", pvalue)"
   ]
  },
  {
   "cell_type": "markdown",
   "metadata": {},
   "source": [
    "#### One - way Anova"
   ]
  },
  {
   "cell_type": "code",
   "execution_count": 7,
   "metadata": {},
   "outputs": [
    {
     "name": "stdout",
     "output_type": "stream",
     "text": [
      "One-way ANOVA statistic: 6.475922406683641\n",
      "p-value: 0.003536773789503349\n",
      "The one-way ANOVA suggests that there are significant differences in exam performance among the groups.\n"
     ]
    }
   ],
   "source": [
    "# Perform one-way ANOVA\n",
    "statistic, p_value = f_oneway(home, boarding, day)\n",
    "\n",
    "print(f'One-way ANOVA statistic: {statistic}')\n",
    "print(f'p-value: {p_value}')\n",
    "\n",
    "if p_value < 0.05:\n",
    "    print('The one-way ANOVA suggests that there are significant differences in exam performance among the groups.')\n",
    "else:\n",
    "    print('The one-way ANOVA suggests that there are no significant differences in exam performance among the groups.')"
   ]
  },
  {
   "cell_type": "markdown",
   "metadata": {},
   "source": [
    "#### Post-hoc - Tukey HSD"
   ]
  },
  {
   "cell_type": "code",
   "execution_count": 16,
   "metadata": {},
   "outputs": [
    {
     "data": {
      "text/html": [
       "<div>\n",
       "<style scoped>\n",
       "    .dataframe tbody tr th:only-of-type {\n",
       "        vertical-align: middle;\n",
       "    }\n",
       "\n",
       "    .dataframe tbody tr th {\n",
       "        vertical-align: top;\n",
       "    }\n",
       "\n",
       "    .dataframe thead th {\n",
       "        text-align: right;\n",
       "    }\n",
       "</style>\n",
       "<table border=\"1\" class=\"dataframe\">\n",
       "  <thead>\n",
       "    <tr style=\"text-align: right;\">\n",
       "      <th></th>\n",
       "      <th>A</th>\n",
       "      <th>B</th>\n",
       "      <th>mean(A)</th>\n",
       "      <th>mean(B)</th>\n",
       "      <th>diff</th>\n",
       "      <th>se</th>\n",
       "      <th>T</th>\n",
       "      <th>p-tukey</th>\n",
       "      <th>hedges</th>\n",
       "    </tr>\n",
       "  </thead>\n",
       "  <tbody>\n",
       "    <tr>\n",
       "      <th>0</th>\n",
       "      <td>Boarding School</td>\n",
       "      <td>Day School</td>\n",
       "      <td>71.866667</td>\n",
       "      <td>84.2</td>\n",
       "      <td>-12.333333</td>\n",
       "      <td>3.435821</td>\n",
       "      <td>-3.589632</td>\n",
       "      <td>0.002428</td>\n",
       "      <td>-1.521316</td>\n",
       "    </tr>\n",
       "    <tr>\n",
       "      <th>1</th>\n",
       "      <td>Boarding School</td>\n",
       "      <td>Home School</td>\n",
       "      <td>71.866667</td>\n",
       "      <td>78.8</td>\n",
       "      <td>-6.933333</td>\n",
       "      <td>3.435821</td>\n",
       "      <td>-2.017955</td>\n",
       "      <td>0.120355</td>\n",
       "      <td>-0.650406</td>\n",
       "    </tr>\n",
       "    <tr>\n",
       "      <th>2</th>\n",
       "      <td>Day School</td>\n",
       "      <td>Home School</td>\n",
       "      <td>84.200000</td>\n",
       "      <td>78.8</td>\n",
       "      <td>5.400000</td>\n",
       "      <td>3.435821</td>\n",
       "      <td>1.571677</td>\n",
       "      <td>0.268965</td>\n",
       "      <td>0.536759</td>\n",
       "    </tr>\n",
       "  </tbody>\n",
       "</table>\n",
       "</div>"
      ],
      "text/plain": [
       "                 A            B    mean(A)  mean(B)       diff        se  \\\n",
       "0  Boarding School   Day School  71.866667     84.2 -12.333333  3.435821   \n",
       "1  Boarding School  Home School  71.866667     78.8  -6.933333  3.435821   \n",
       "2       Day School  Home School  84.200000     78.8   5.400000  3.435821   \n",
       "\n",
       "          T   p-tukey    hedges  \n",
       "0 -3.589632  0.002428 -1.521316  \n",
       "1 -2.017955  0.120355 -0.650406  \n",
       "2  1.571677  0.268965  0.536759  "
      ]
     },
     "execution_count": 16,
     "metadata": {},
     "output_type": "execute_result"
    }
   ],
   "source": [
    "df_melt = df.melt(var_name='School_Type', value_name='Grade')\n",
    "# tukey_results = pairwise_tukeyhsd(df_melt['Grade'], df_melt['School_Type'])\n",
    "tukey_results = pg.pairwise_tukey(dv = 'Grade', between = 'School_Type', data = df_melt)\n",
    "tukey_results"
   ]
  },
  {
   "cell_type": "markdown",
   "metadata": {},
   "source": [
    "### **Inference**\n",
    "\n",
    "+ The table indicates that there is a statistically significant difference in means between \"Boarding School\" and \"Day School\" (meandiff = -12.3333, p-adj < 0.05).\n",
    "\n",
    "+ Therefore, we reject the null hypothesis and conclude that there is a significant difference in grades between students from boarding school and day school, with Regular say school students performing significantly better.\n",
    "\n",
    "+ However, there is no significant difference in means between \"Boarding School\" and \"Home School\" (p > 0.05) or between \"Day School\" and \"Home School\" (p > 0.05)."
   ]
  },
  {
   "cell_type": "markdown",
   "metadata": {},
   "source": [
    "#### Plot analyzed data"
   ]
  },
  {
   "cell_type": "code",
   "execution_count": 20,
   "metadata": {},
   "outputs": [
    {
     "data": {
      "image/png": "[encoded data removed]",
      "text/plain": [
       "<Figure size 576x720 with 1 Axes>"
      ]
     },
     "metadata": {
      "needs_background": "light"
     },
     "output_type": "display_data"
    }
   ],
   "source": [
    "plt.figure(figsize=(8, 10)) \n",
    "\n",
    "plt.bar(df.columns, df.mean(), yerr = df.std())\n",
    "plt.ylabel(\"Exam Performance\")\n",
    "plt.grid(True)\n",
    "plt.title(\"Exam performance compared with School Type\")\n",
    "plt.show()"
   ]
  }
 ],
 "metadata": {
  "kernelspec": {
   "display_name": "Python 3",
   "language": "python",
   "name": "python3"
  },
  "language_info": {
   "codemirror_mode": {
    "name": "ipython",
    "version": 3
   },
   "file_extension": ".py",
   "mimetype": "text/x-python",
   "name": "python",
   "nbconvert_exporter": "python",
   "pygments_lexer": "ipython3",
   "version": "3.8.10"
  }
 },
 "nbformat": 4,
 "nbformat_minor": 2
}
