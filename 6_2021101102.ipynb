{
 "cells": [
  {
   "cell_type": "markdown",
   "metadata": {},
   "source": [
    "+ Name : Vanshita Mahajan\n",
    "+ Roll Number : 2021101102 "
   ]
  },
  {
   "cell_type": "markdown",
   "metadata": {},
   "source": [
    "#### Hypothesis Testing Homework"
   ]
  },
  {
   "cell_type": "code",
   "execution_count": 54,
   "metadata": {},
   "outputs": [],
   "source": [
    "import pandas as pd\n",
    "import matplotlib.pyplot as plt\n",
    "import seaborn as sns\n",
    "from math import pi\n",
    "import numpy as np\n",
    "from statsmodels.graphics.mosaicplot import mosaic\n",
    "from scipy.stats import shapiro\n",
    "from scipy.stats import ttest_ind\n",
    "from scipy import stats"
   ]
  },
  {
   "cell_type": "code",
   "execution_count": 55,
   "metadata": {},
   "outputs": [
    {
     "data": {
      "text/html": [
       "<div>\n",
       "<style scoped>\n",
       "    .dataframe tbody tr th:only-of-type {\n",
       "        vertical-align: middle;\n",
       "    }\n",
       "\n",
       "    .dataframe tbody tr th {\n",
       "        vertical-align: top;\n",
       "    }\n",
       "\n",
       "    .dataframe thead th {\n",
       "        text-align: right;\n",
       "    }\n",
       "</style>\n",
       "<table border=\"1\" class=\"dataframe\">\n",
       "  <thead>\n",
       "    <tr style=\"text-align: right;\">\n",
       "      <th></th>\n",
       "      <th>Unnamed: 0</th>\n",
       "      <th>GPA</th>\n",
       "      <th>IQ</th>\n",
       "      <th>GENDER</th>\n",
       "      <th>TESTSCORE</th>\n",
       "      <th>Unnamed: 5</th>\n",
       "      <th>Unnamed: 6</th>\n",
       "      <th>Unnamed: 7</th>\n",
       "      <th>Exerice_Times</th>\n",
       "      <th>Exercise code</th>\n",
       "      <th>Anxiety</th>\n",
       "    </tr>\n",
       "  </thead>\n",
       "  <tbody>\n",
       "    <tr>\n",
       "      <th>0</th>\n",
       "      <td>1</td>\n",
       "      <td>7.940</td>\n",
       "      <td>111</td>\n",
       "      <td>2</td>\n",
       "      <td>67</td>\n",
       "      <td>NaN</td>\n",
       "      <td>NaN</td>\n",
       "      <td>NaN</td>\n",
       "      <td>0.0</td>\n",
       "      <td>0.0</td>\n",
       "      <td>21.0</td>\n",
       "    </tr>\n",
       "    <tr>\n",
       "      <th>1</th>\n",
       "      <td>2</td>\n",
       "      <td>8.292</td>\n",
       "      <td>107</td>\n",
       "      <td>2</td>\n",
       "      <td>43</td>\n",
       "      <td>NaN</td>\n",
       "      <td>NaN</td>\n",
       "      <td>NaN</td>\n",
       "      <td>0.0</td>\n",
       "      <td>0.0</td>\n",
       "      <td>11.0</td>\n",
       "    </tr>\n",
       "    <tr>\n",
       "      <th>2</th>\n",
       "      <td>3</td>\n",
       "      <td>4.643</td>\n",
       "      <td>100</td>\n",
       "      <td>2</td>\n",
       "      <td>52</td>\n",
       "      <td>NaN</td>\n",
       "      <td>NaN</td>\n",
       "      <td>NaN</td>\n",
       "      <td>0.0</td>\n",
       "      <td>0.0</td>\n",
       "      <td>12.0</td>\n",
       "    </tr>\n",
       "    <tr>\n",
       "      <th>3</th>\n",
       "      <td>4</td>\n",
       "      <td>7.470</td>\n",
       "      <td>107</td>\n",
       "      <td>2</td>\n",
       "      <td>66</td>\n",
       "      <td>NaN</td>\n",
       "      <td>NaN</td>\n",
       "      <td>NaN</td>\n",
       "      <td>0.0</td>\n",
       "      <td>0.0</td>\n",
       "      <td>28.0</td>\n",
       "    </tr>\n",
       "    <tr>\n",
       "      <th>4</th>\n",
       "      <td>5</td>\n",
       "      <td>8.882</td>\n",
       "      <td>114</td>\n",
       "      <td>1</td>\n",
       "      <td>58</td>\n",
       "      <td>NaN</td>\n",
       "      <td>NaN</td>\n",
       "      <td>NaN</td>\n",
       "      <td>0.0</td>\n",
       "      <td>0.0</td>\n",
       "      <td>16.0</td>\n",
       "    </tr>\n",
       "    <tr>\n",
       "      <th>...</th>\n",
       "      <td>...</td>\n",
       "      <td>...</td>\n",
       "      <td>...</td>\n",
       "      <td>...</td>\n",
       "      <td>...</td>\n",
       "      <td>...</td>\n",
       "      <td>...</td>\n",
       "      <td>...</td>\n",
       "      <td>...</td>\n",
       "      <td>...</td>\n",
       "      <td>...</td>\n",
       "    </tr>\n",
       "    <tr>\n",
       "      <th>73</th>\n",
       "      <td>85</td>\n",
       "      <td>9.000</td>\n",
       "      <td>112</td>\n",
       "      <td>1</td>\n",
       "      <td>60</td>\n",
       "      <td>NaN</td>\n",
       "      <td>NaN</td>\n",
       "      <td>NaN</td>\n",
       "      <td>NaN</td>\n",
       "      <td>NaN</td>\n",
       "      <td>NaN</td>\n",
       "    </tr>\n",
       "    <tr>\n",
       "      <th>74</th>\n",
       "      <td>86</td>\n",
       "      <td>9.500</td>\n",
       "      <td>112</td>\n",
       "      <td>1</td>\n",
       "      <td>70</td>\n",
       "      <td>NaN</td>\n",
       "      <td>NaN</td>\n",
       "      <td>NaN</td>\n",
       "      <td>NaN</td>\n",
       "      <td>NaN</td>\n",
       "      <td>NaN</td>\n",
       "    </tr>\n",
       "    <tr>\n",
       "      <th>75</th>\n",
       "      <td>87</td>\n",
       "      <td>6.057</td>\n",
       "      <td>114</td>\n",
       "      <td>2</td>\n",
       "      <td>51</td>\n",
       "      <td>NaN</td>\n",
       "      <td>NaN</td>\n",
       "      <td>NaN</td>\n",
       "      <td>NaN</td>\n",
       "      <td>NaN</td>\n",
       "      <td>NaN</td>\n",
       "    </tr>\n",
       "    <tr>\n",
       "      <th>76</th>\n",
       "      <td>88</td>\n",
       "      <td>6.057</td>\n",
       "      <td>93</td>\n",
       "      <td>1</td>\n",
       "      <td>21</td>\n",
       "      <td>NaN</td>\n",
       "      <td>NaN</td>\n",
       "      <td>NaN</td>\n",
       "      <td>NaN</td>\n",
       "      <td>NaN</td>\n",
       "      <td>NaN</td>\n",
       "    </tr>\n",
       "    <tr>\n",
       "      <th>77</th>\n",
       "      <td>89</td>\n",
       "      <td>6.938</td>\n",
       "      <td>106</td>\n",
       "      <td>2</td>\n",
       "      <td>56</td>\n",
       "      <td>NaN</td>\n",
       "      <td>NaN</td>\n",
       "      <td>NaN</td>\n",
       "      <td>NaN</td>\n",
       "      <td>NaN</td>\n",
       "      <td>NaN</td>\n",
       "    </tr>\n",
       "  </tbody>\n",
       "</table>\n",
       "<p>78 rows × 11 columns</p>\n",
       "</div>"
      ],
      "text/plain": [
       "    Unnamed: 0    GPA   IQ  GENDER  TESTSCORE  Unnamed: 5  Unnamed: 6  \\\n",
       "0            1  7.940  111       2         67         NaN         NaN   \n",
       "1            2  8.292  107       2         43         NaN         NaN   \n",
       "2            3  4.643  100       2         52         NaN         NaN   \n",
       "3            4  7.470  107       2         66         NaN         NaN   \n",
       "4            5  8.882  114       1         58         NaN         NaN   \n",
       "..         ...    ...  ...     ...        ...         ...         ...   \n",
       "73          85  9.000  112       1         60         NaN         NaN   \n",
       "74          86  9.500  112       1         70         NaN         NaN   \n",
       "75          87  6.057  114       2         51         NaN         NaN   \n",
       "76          88  6.057   93       1         21         NaN         NaN   \n",
       "77          89  6.938  106       2         56         NaN         NaN   \n",
       "\n",
       "    Unnamed: 7  Exerice_Times  Exercise code  Anxiety  \n",
       "0          NaN            0.0            0.0     21.0  \n",
       "1          NaN            0.0            0.0     11.0  \n",
       "2          NaN            0.0            0.0     12.0  \n",
       "3          NaN            0.0            0.0     28.0  \n",
       "4          NaN            0.0            0.0     16.0  \n",
       "..         ...            ...            ...      ...  \n",
       "73         NaN            NaN            NaN      NaN  \n",
       "74         NaN            NaN            NaN      NaN  \n",
       "75         NaN            NaN            NaN      NaN  \n",
       "76         NaN            NaN            NaN      NaN  \n",
       "77         NaN            NaN            NaN      NaN  \n",
       "\n",
       "[78 rows x 11 columns]"
      ]
     },
     "execution_count": 55,
     "metadata": {},
     "output_type": "execute_result"
    }
   ],
   "source": [
    "df = pd.read_excel(\"Hypothesis testing data.xlsx\")\n",
    "df"
   ]
  },
  {
   "cell_type": "code",
   "execution_count": 56,
   "metadata": {},
   "outputs": [
    {
     "name": "stdout",
     "output_type": "stream",
     "text": [
      "TESTSCORE for GPA <= 7:\n",
      "52\n",
      "51\n",
      "49\n",
      "54\n",
      "56\n",
      "40\n",
      "66\n",
      "20\n",
      "56\n",
      "52\n",
      "46\n",
      "66\n",
      "53\n",
      "67\n",
      "30\n",
      "44\n",
      "36\n",
      "42\n",
      "28\n",
      "51\n",
      "21\n",
      "56\n",
      "\n",
      "TESTSCORE for GPA > 7:\n",
      "67\n",
      "43\n",
      "66\n",
      "58\n",
      "51\n",
      "71\n",
      "51\n",
      "35\n",
      "54\n",
      "64\n",
      "69\n",
      "55\n",
      "65\n",
      "55\n",
      "68\n",
      "69\n",
      "70\n",
      "80\n",
      "53\n",
      "65\n",
      "67\n",
      "62\n",
      "39\n",
      "71\n",
      "59\n",
      "60\n",
      "64\n",
      "71\n",
      "72\n",
      "54\n",
      "64\n",
      "58\n",
      "70\n",
      "72\n",
      "70\n",
      "47\n",
      "67\n",
      "63\n",
      "61\n",
      "54\n",
      "60\n",
      "60\n",
      "63\n",
      "54\n",
      "66\n",
      "44\n",
      "49\n",
      "67\n",
      "64\n",
      "73\n",
      "59\n",
      "37\n",
      "63\n",
      "64\n",
      "60\n",
      "70\n"
     ]
    }
   ],
   "source": [
    "# Display the results\n",
    "testscores_gpa_below_7 = df[df['GPA'] <= 7]['TESTSCORE']\n",
    "testscores_gpa_above_7 = df[df['GPA'] > 7]['TESTSCORE']\n",
    "\n",
    "# Display the results without index\n",
    "print(\"TESTSCORE for GPA <= 7:\")\n",
    "print(testscores_gpa_below_7.to_string(index=False))\n",
    "\n",
    "print(\"\\nTESTSCORE for GPA > 7:\")\n",
    "print(testscores_gpa_above_7.to_string(index=False))"
   ]
  },
  {
   "cell_type": "code",
   "execution_count": 57,
   "metadata": {},
   "outputs": [
    {
     "name": "stdout",
     "output_type": "stream",
     "text": [
      "The test score for GPA below 7 follows a normal distribution\n",
      "The test score for GPA above 7 does not follow a normal distribution\n",
      "\n",
      "stat_0: 0.9349780678749084 stat_1: 0.9424629807472229\n",
      "p_value_0: 0.15576288104057312 p_value_1: 0.009911353699862957\n"
     ]
    }
   ],
   "source": [
    "# Shapiro-Wilk test for normality - GPA <= 7\n",
    "\n",
    "stat_0, p_value_0 = shapiro(testscores_gpa_below_7)\n",
    "alpha = 0.05 # arbitrary\n",
    "\n",
    "if p_value_0 > alpha:\n",
    "    print(\"The test score for GPA below 7 follows a normal distribution\")\n",
    "else:\n",
    "    print(\"The test score for GPA below 7 does not follow a normal distribution\")\n",
    "\n",
    "\n",
    "# Shapiro-Wilk test for normality - GPA > 7\n",
    "    \n",
    "stat_1, p_value_1 = shapiro(testscores_gpa_above_7)\n",
    "\n",
    "if p_value_1 > alpha:\n",
    "    print(\"The test score for GPA above 7 follows a normal distribution\")\n",
    "else:\n",
    "    print(\"The test score for GPA above 7 does not follow a normal distribution\")\n",
    "\n",
    "print(\"\")\n",
    "print(\"stat_0:\", stat_0, \"stat_1:\", stat_1)\n",
    "print(\"p_value_0:\", p_value_0, \"p_value_1:\", p_value_1)"
   ]
  },
  {
   "cell_type": "code",
   "execution_count": 58,
   "metadata": {},
   "outputs": [
    {
     "name": "stderr",
     "output_type": "stream",
     "text": [
      "No artists with labels found to put in legend.  Note that artists whose label start with an underscore are ignored when legend() is called with no argument.\n",
      "No artists with labels found to put in legend.  Note that artists whose label start with an underscore are ignored when legend() is called with no argument.\n"
     ]
    },
    {
     "data": {
      "image/png": "[encoded data removed]",
      "text/plain": [
       "<Figure size 864x432 with 2 Axes>"
      ]
     },
     "metadata": {
      "needs_background": "light"
     },
     "output_type": "display_data"
    }
   ],
   "source": [
    "# Visualize the data\n",
    "plt.figure(figsize=(12, 6))\n",
    "\n",
    "# Plot histograms\n",
    "plt.subplot(1, 2, 1)\n",
    "sns.histplot(testscores_gpa_below_7, kde=True, binwidth = 2)\n",
    "plt.title('Histogram of testscore values for students with gpa <= 7')\n",
    "plt.legend()\n",
    "\n",
    "plt.subplot(1, 2, 2)\n",
    "sns.histplot(testscores_gpa_above_7, kde=True, binwidth = 2)\n",
    "plt.title('Histogram of testscore values for students with gpa > 7')\n",
    "plt.legend()\n",
    "\n",
    "plt.show()"
   ]
  },
  {
   "cell_type": "markdown",
   "metadata": {},
   "source": [
    "### T- Test"
   ]
  },
  {
   "cell_type": "code",
   "execution_count": 59,
   "metadata": {},
   "outputs": [
    {
     "name": "stdout",
     "output_type": "stream",
     "text": [
      "The difference in testscores between students with gpa <= 7 and those with gpa > 7 is statistically significant (reject H0)\n",
      "t-statistic: 5.0556158403339255\n",
      "P-value: 2.884171214210811e-06\n"
     ]
    }
   ],
   "source": [
    "# Perform independent two-sample t-test\n",
    "t_stat, p_value_ttest = ttest_ind(testscores_gpa_above_7, testscores_gpa_below_7)\n",
    "\n",
    "# Set the significance level\n",
    "alpha_ttest = 0.05\n",
    "\n",
    "# Check for significance\n",
    "if p_value_ttest < alpha_ttest:\n",
    "    print(\"The difference in testscores between students with gpa <= 7 and those with gpa > 7 is statistically significant (reject H0)\")\n",
    "else:\n",
    "    print(\"There is no significant difference in testscores between students with gpa <= 7 and those with gpa > 7  (fail to reject H0)\")\n",
    "\n",
    "# Display t-statistic and p-value\n",
    "print(f\"t-statistic: {t_stat}\")\n",
    "print(f\"P-value: {p_value_ttest}\")"
   ]
  },
  {
   "cell_type": "markdown",
   "metadata": {},
   "source": [
    "### Effect Size"
   ]
  },
  {
   "cell_type": "code",
   "execution_count": 60,
   "metadata": {},
   "outputs": [
    {
     "name": "stdout",
     "output_type": "stream",
     "text": [
      "Cohen's d: 1.2913781992067632\n"
     ]
    }
   ],
   "source": [
    "mean_0 = np.mean(testscores_gpa_below_7)\n",
    "mean_1 = np.mean(testscores_gpa_above_7)\n",
    "var_0 = np.var(testscores_gpa_below_7)\n",
    "var_1 = np.var(testscores_gpa_above_7)\n",
    "\n",
    "# Calculate pooled standard deviation\n",
    "pooled_std = np.sqrt(((len(testscores_gpa_below_7) - 1) * var_0 + (len(testscores_gpa_above_7) - 1) * var_1) / (len(testscores_gpa_below_7) + len(testscores_gpa_above_7) - 2))\n",
    "\n",
    "# Calculate Cohen's d\n",
    "cohen_d = (mean_0 - mean_1) / pooled_std\n",
    "cohen_d = abs(cohen_d)\n",
    "\n",
    "print(f\"Cohen's d: {cohen_d}\")"
   ]
  },
  {
   "cell_type": "code",
   "execution_count": 61,
   "metadata": {},
   "outputs": [
    {
     "name": "stdout",
     "output_type": "stream",
     "text": [
      "Mean test score for gpa <= 7 is 47.09090909090909\n",
      "Mean test score for gpa > 7 is 60.839285714285715\n"
     ]
    }
   ],
   "source": [
    "print(\"Mean test score for gpa <= 7 is\", mean_0)\n",
    "print(\"Mean test score for gpa > 7 is\", mean_1)"
   ]
  },
  {
   "cell_type": "markdown",
   "metadata": {},
   "source": [
    "A brief description of the tests performed and what can be interpreted of them:\n",
    "\n",
    "Shapiro-Wilk Test:\n",
    "\n",
    "+ Purpose: The Shapiro-Wilk test is used to assess whether a given sample comes from a normally distributed population.\n",
    "+ Null Hypothesis (H0): The data follows a normal distribution.\n",
    "+ Interpretation: If the p-value from the test is greater than the significance level (commonly set at 0.05), we fail to reject the null hypothesis, indicating that there's no significant evidence to suggest a departure from normality.\n",
    "\n",
    "Independent t-test (ttest_ind):\n",
    "\n",
    "+ Purpose: The independent t-test is used to determine whether there is a significant difference between the means of two independent groups.\n",
    "+ Null Hypothesis (H0): There is no significant difference between the group means.\n",
    "+ Interpretation: If the p-value is less than the significance level (commonly set at 0.05), we reject the null hypothesis, suggesting that there is a significant difference between the means of the two groups. The t-statistic indicates the size and direction of this difference.\n",
    "\n",
    "Cohen's d:\n",
    "\n",
    "+ Purpose: Cohen's d is a measure of effect size that quantifies the difference between two groups in terms of standard deviations.\n",
    "+ Interpretation: A larger Cohen's d value indicates a larger effect size. Commonly, a d value of 0.2 is considered small, 0.5 is moderate, and 0.8 or higher is large. It provides information about the practical significance of the observed difference, irrespective of sample size.\n"
   ]
  },
  {
   "cell_type": "markdown",
   "metadata": {},
   "source": [
    "### Report"
   ]
  },
  {
   "cell_type": "markdown",
   "metadata": {},
   "source": [
    "##### **Null Hypothesis (H0)**: Doing exercise has no significant difference in anxitey levels. In other words, the mean testscore is same issrespective of student GPA.\n",
    "##### **Alternate Hypothesis (H1):** There is a significant difference in testscore performance based on the student GPA. That is, students with GPA > 7 perform significantly different compared to those with GPA <= 7.\n",
    "\n",
    "### testscores_gpa_below_7:\n",
    "+ Shapiro-Wilk Statistic: stat_0 \n",
    "+ P-Value: p_value_0 \n",
    "\n",
    "### testscores_gpa_above_7:\n",
    "+ Shapiro-Wilk Statistic: stat_1 \n",
    "+ P-Value: p_value_1 "
   ]
  },
  {
   "cell_type": "markdown",
   "metadata": {},
   "source": []
  },
  {
   "cell_type": "markdown",
   "metadata": {},
   "source": [
    "### *Following Observations can be made* :\n",
    "\n",
    "#### 1. **Shapiro-Wilk Test for Normality:** Upon performing the Shapiro-Wilk test, the p_value for testscores for students with gpa <= 7 is 0.155 which is greater than alpha, indicating that data follows a normal distribution. The p-value for testscores for students with gpa > 7  is 0.009 which is less than 0.05, hence data does not follow a normal distribution in this case.\n",
    "\n",
    "#### 2. **Independent Tests:** The t-statistic (t_stat) is a measure of how many standard deviations a particular data point (or the sample mean) is from the mean of the distribution (or the population mean) in standard deviation units. In the context of a t-test, it helps assess whether the means of two groups are significantly different from each other. The t-test for above data resulted in a t-statistic of 5.05 with a p-value of 2.88 * 10^-6. As the p-value is lesser than the significance level of 0.05, there is enough evidence to reject the null hypothesis.\n",
    "\n",
    "#### 3. **Effect Size (Cohen's d):** The Cohen's d value of 1.29 indicates a very large effect size. In this case, both the statistical test and cohen's d value establish that there is a notable and meaningful difference in the test scores of students whose gpa is less than or equal to 7, and those whose gpa is greater than 7.\n",
    "\n",
    "#### As the mean test score for gpa <=7 is 45 and the mean test score for gpa > 7 is 60 and it has been established via the above tests that the null hypothesis is rejected, we can conclude that students with gpa <= 7 have lower placement test score than those with gpa > 7."
   ]
  },
  {
   "cell_type": "markdown",
   "metadata": {},
   "source": []
  }
 ],
 "metadata": {
  "kernelspec": {
   "display_name": "Python 3",
   "language": "python",
   "name": "python3"
  },
  "language_info": {
   "codemirror_mode": {
    "name": "ipython",
    "version": 3
   },
   "file_extension": ".py",
   "mimetype": "text/x-python",
   "name": "python",
   "nbconvert_exporter": "python",
   "pygments_lexer": "ipython3",
   "version": "3.8.10"
  }
 },
 "nbformat": 4,
 "nbformat_minor": 2
}
